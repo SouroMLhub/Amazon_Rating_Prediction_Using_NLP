{
  "nbformat": 4,
  "nbformat_minor": 0,
  "metadata": {
    "kernelspec": {
      "display_name": "Python 3",
      "language": "python",
      "name": "python3"
    },
    "language_info": {
      "codemirror_mode": {
        "name": "ipython",
        "version": 3
      },
      "file_extension": ".py",
      "mimetype": "text/x-python",
      "name": "python",
      "nbconvert_exporter": "python",
      "pygments_lexer": "ipython3",
      "version": "3.7.4"
    },
    "colab": {
      "name": "AmazonRatingPredicitionUsingNLP.ipynb",
      "provenance": []
    }
  },
  "cells": [
    {
      "cell_type": "code",
      "metadata": {
        "id": "QWVvW7s5PrEv",
        "colab_type": "code",
        "colab": {
          "base_uri": "https://localhost:8080/",
          "height": 70
        },
        "outputId": "232d4813-8786-486d-e2bb-980312586f63"
      },
      "source": [
        "#importing libraries\n",
        "import nltk\n",
        "import string\n",
        "import numpy as np\n",
        "import pandas as pd\n",
        "import seaborn as sns\n",
        "import matplotlib.pyplot as plt\n",
        "import nltk\n",
        "nltk.download('stopwords')"
      ],
      "execution_count": 1,
      "outputs": [
        {
          "output_type": "stream",
          "text": [
            "[nltk_data] Downloading package stopwords to /root/nltk_data...\n",
            "[nltk_data]   Package stopwords is already up-to-date!\n"
          ],
          "name": "stdout"
        },
        {
          "output_type": "execute_result",
          "data": {
            "text/plain": [
              "True"
            ]
          },
          "metadata": {
            "tags": []
          },
          "execution_count": 1
        }
      ]
    },
    {
      "cell_type": "code",
      "metadata": {
        "id": "UTdRRLL6PrE1",
        "colab_type": "code",
        "colab": {
          "base_uri": "https://localhost:8080/",
          "height": 363
        },
        "outputId": "0da35a33-3021-4332-d2d4-773d2e661a3b"
      },
      "source": [
        "train_data =pd.read_excel(\"Predict_Amazon_Ratings.xlsx\")\n",
        "train_data.head(5)"
      ],
      "execution_count": 2,
      "outputs": [
        {
          "output_type": "execute_result",
          "data": {
            "text/html": [
              "<div>\n",
              "<style scoped>\n",
              "    .dataframe tbody tr th:only-of-type {\n",
              "        vertical-align: middle;\n",
              "    }\n",
              "\n",
              "    .dataframe tbody tr th {\n",
              "        vertical-align: top;\n",
              "    }\n",
              "\n",
              "    .dataframe thead th {\n",
              "        text-align: right;\n",
              "    }\n",
              "</style>\n",
              "<table border=\"1\" class=\"dataframe\">\n",
              "  <thead>\n",
              "    <tr style=\"text-align: right;\">\n",
              "      <th></th>\n",
              "      <th>Product_Name</th>\n",
              "      <th>Brand_Name</th>\n",
              "      <th>Price</th>\n",
              "      <th>Rating</th>\n",
              "      <th>Reviews</th>\n",
              "      <th>Review Votes</th>\n",
              "    </tr>\n",
              "  </thead>\n",
              "  <tbody>\n",
              "    <tr>\n",
              "      <th>0</th>\n",
              "      <td>Alltel LG AX390 AX-390 AX 390 SPECIAL FOR PAGE...</td>\n",
              "      <td>LG</td>\n",
              "      <td>38.95</td>\n",
              "      <td>4</td>\n",
              "      <td>it was what i needed.</td>\n",
              "      <td>0.0</td>\n",
              "    </tr>\n",
              "    <tr>\n",
              "      <th>1</th>\n",
              "      <td>Alltel LG AX390 AX-390 AX 390 SPECIAL FOR PAGE...</td>\n",
              "      <td>LG</td>\n",
              "      <td>38.95</td>\n",
              "      <td>2</td>\n",
              "      <td>This phone was in great shape although I could...</td>\n",
              "      <td>0.0</td>\n",
              "    </tr>\n",
              "    <tr>\n",
              "      <th>2</th>\n",
              "      <td>AT&amp;T LG CU405 No Contract Push To Talk Quad Ba...</td>\n",
              "      <td>LG</td>\n",
              "      <td>64.95</td>\n",
              "      <td>1</td>\n",
              "      <td>Not good, stopped working after 2 weeks, next ...</td>\n",
              "      <td>0.0</td>\n",
              "    </tr>\n",
              "    <tr>\n",
              "      <th>3</th>\n",
              "      <td>AT&amp;T LG CU405 No Contract Push To Talk Quad Ba...</td>\n",
              "      <td>LG</td>\n",
              "      <td>64.95</td>\n",
              "      <td>1</td>\n",
              "      <td>so my boyfriend bought this phone off my accou...</td>\n",
              "      <td>0.0</td>\n",
              "    </tr>\n",
              "    <tr>\n",
              "      <th>4</th>\n",
              "      <td>AT&amp;T LG Neon GT365BLS QWERTY Camera Phone</td>\n",
              "      <td>LG</td>\n",
              "      <td>14.44</td>\n",
              "      <td>1</td>\n",
              "      <td>Disappointed - we need to tide over our accoun...</td>\n",
              "      <td>1.0</td>\n",
              "    </tr>\n",
              "  </tbody>\n",
              "</table>\n",
              "</div>"
            ],
            "text/plain": [
              "                                        Product_Name  ... Review Votes\n",
              "0  Alltel LG AX390 AX-390 AX 390 SPECIAL FOR PAGE...  ...          0.0\n",
              "1  Alltel LG AX390 AX-390 AX 390 SPECIAL FOR PAGE...  ...          0.0\n",
              "2  AT&T LG CU405 No Contract Push To Talk Quad Ba...  ...          0.0\n",
              "3  AT&T LG CU405 No Contract Push To Talk Quad Ba...  ...          0.0\n",
              "4          AT&T LG Neon GT365BLS QWERTY Camera Phone  ...          1.0\n",
              "\n",
              "[5 rows x 6 columns]"
            ]
          },
          "metadata": {
            "tags": []
          },
          "execution_count": 2
        }
      ]
    },
    {
      "cell_type": "code",
      "metadata": {
        "id": "vo8TAjqiPrE5",
        "colab_type": "code",
        "colab": {
          "base_uri": "https://localhost:8080/",
          "height": 284
        },
        "outputId": "1e83bec8-7f0b-4d7b-fefb-afba7d552e1f"
      },
      "source": [
        "train_data.describe()"
      ],
      "execution_count": 3,
      "outputs": [
        {
          "output_type": "execute_result",
          "data": {
            "text/html": [
              "<div>\n",
              "<style scoped>\n",
              "    .dataframe tbody tr th:only-of-type {\n",
              "        vertical-align: middle;\n",
              "    }\n",
              "\n",
              "    .dataframe tbody tr th {\n",
              "        vertical-align: top;\n",
              "    }\n",
              "\n",
              "    .dataframe thead th {\n",
              "        text-align: right;\n",
              "    }\n",
              "</style>\n",
              "<table border=\"1\" class=\"dataframe\">\n",
              "  <thead>\n",
              "    <tr style=\"text-align: right;\">\n",
              "      <th></th>\n",
              "      <th>Price</th>\n",
              "      <th>Rating</th>\n",
              "      <th>Review Votes</th>\n",
              "    </tr>\n",
              "  </thead>\n",
              "  <tbody>\n",
              "    <tr>\n",
              "      <th>count</th>\n",
              "      <td>25760.000000</td>\n",
              "      <td>25859.000000</td>\n",
              "      <td>25114.000000</td>\n",
              "    </tr>\n",
              "    <tr>\n",
              "      <th>mean</th>\n",
              "      <td>222.707395</td>\n",
              "      <td>3.864573</td>\n",
              "      <td>1.040495</td>\n",
              "    </tr>\n",
              "    <tr>\n",
              "      <th>std</th>\n",
              "      <td>156.480990</td>\n",
              "      <td>1.525529</td>\n",
              "      <td>4.940106</td>\n",
              "    </tr>\n",
              "    <tr>\n",
              "      <th>min</th>\n",
              "      <td>5.990000</td>\n",
              "      <td>1.000000</td>\n",
              "      <td>0.000000</td>\n",
              "    </tr>\n",
              "    <tr>\n",
              "      <th>25%</th>\n",
              "      <td>99.990000</td>\n",
              "      <td>3.000000</td>\n",
              "      <td>0.000000</td>\n",
              "    </tr>\n",
              "    <tr>\n",
              "      <th>50%</th>\n",
              "      <td>199.000000</td>\n",
              "      <td>5.000000</td>\n",
              "      <td>0.000000</td>\n",
              "    </tr>\n",
              "    <tr>\n",
              "      <th>75%</th>\n",
              "      <td>325.000000</td>\n",
              "      <td>5.000000</td>\n",
              "      <td>1.000000</td>\n",
              "    </tr>\n",
              "    <tr>\n",
              "      <th>max</th>\n",
              "      <td>2000.000000</td>\n",
              "      <td>5.000000</td>\n",
              "      <td>219.000000</td>\n",
              "    </tr>\n",
              "  </tbody>\n",
              "</table>\n",
              "</div>"
            ],
            "text/plain": [
              "              Price        Rating  Review Votes\n",
              "count  25760.000000  25859.000000  25114.000000\n",
              "mean     222.707395      3.864573      1.040495\n",
              "std      156.480990      1.525529      4.940106\n",
              "min        5.990000      1.000000      0.000000\n",
              "25%       99.990000      3.000000      0.000000\n",
              "50%      199.000000      5.000000      0.000000\n",
              "75%      325.000000      5.000000      1.000000\n",
              "max     2000.000000      5.000000    219.000000"
            ]
          },
          "metadata": {
            "tags": []
          },
          "execution_count": 3
        }
      ]
    },
    {
      "cell_type": "code",
      "metadata": {
        "id": "_4BMWhsGPrE_",
        "colab_type": "code",
        "colab": {
          "base_uri": "https://localhost:8080/",
          "height": 210
        },
        "outputId": "a6d3a2c1-3677-4e3b-e0ca-c898c8b01ec2"
      },
      "source": [
        "train_data.info()"
      ],
      "execution_count": 4,
      "outputs": [
        {
          "output_type": "stream",
          "text": [
            "<class 'pandas.core.frame.DataFrame'>\n",
            "RangeIndex: 25859 entries, 0 to 25858\n",
            "Data columns (total 6 columns):\n",
            "Product_Name    25859 non-null object\n",
            "Brand_Name      25859 non-null object\n",
            "Price           25760 non-null float64\n",
            "Rating          25859 non-null int64\n",
            "Reviews         25851 non-null object\n",
            "Review Votes    25114 non-null float64\n",
            "dtypes: float64(2), int64(1), object(3)\n",
            "memory usage: 1.2+ MB\n"
          ],
          "name": "stdout"
        }
      ]
    },
    {
      "cell_type": "code",
      "metadata": {
        "id": "SHp30XRfPrFG",
        "colab_type": "code",
        "colab": {
          "base_uri": "https://localhost:8080/",
          "height": 34
        },
        "outputId": "42d1ada9-8a18-4e90-a334-883730558574"
      },
      "source": [
        "train_data.shape"
      ],
      "execution_count": 5,
      "outputs": [
        {
          "output_type": "execute_result",
          "data": {
            "text/plain": [
              "(25859, 6)"
            ]
          },
          "metadata": {
            "tags": []
          },
          "execution_count": 5
        }
      ]
    },
    {
      "cell_type": "code",
      "metadata": {
        "id": "r3lx_wlyPrFJ",
        "colab_type": "code",
        "colab": {
          "base_uri": "https://localhost:8080/",
          "height": 140
        },
        "outputId": "2b1244e5-3c07-488b-ca96-35e6b657524b"
      },
      "source": [
        "(len(train_data)-train_data.count())/len(train_data)"
      ],
      "execution_count": 6,
      "outputs": [
        {
          "output_type": "execute_result",
          "data": {
            "text/plain": [
              "Product_Name    0.000000\n",
              "Brand_Name      0.000000\n",
              "Price           0.003828\n",
              "Rating          0.000000\n",
              "Reviews         0.000309\n",
              "Review Votes    0.028810\n",
              "dtype: float64"
            ]
          },
          "metadata": {
            "tags": []
          },
          "execution_count": 6
        }
      ]
    },
    {
      "cell_type": "code",
      "metadata": {
        "id": "oAo8f81fPrFO",
        "colab_type": "code",
        "colab": {}
      },
      "source": [
        "Rating_count =train_data['Rating'].value_counts()"
      ],
      "execution_count": 0,
      "outputs": []
    },
    {
      "cell_type": "code",
      "metadata": {
        "id": "2Dbz5NB5PrFQ",
        "colab_type": "code",
        "colab": {
          "base_uri": "https://localhost:8080/",
          "height": 333
        },
        "outputId": "707f079e-e471-45c8-cf51-0740a027356b"
      },
      "source": [
        "Index =[1,2,3,4,5]\n",
        "plt.bar(Index, Rating_count)\n",
        "plt.xticks(Index, ['1_star', '2_star', '3_star', '4_star', '5_star'], rotation =45)\n",
        "plt.ylabel('Rating Count')\n",
        "plt.xlabel('Rating')\n",
        "plt.title('Count Of Rating')"
      ],
      "execution_count": 8,
      "outputs": [
        {
          "output_type": "execute_result",
          "data": {
            "text/plain": [
              "Text(0.5, 1.0, 'Count Of Rating')"
            ]
          },
          "metadata": {
            "tags": []
          },
          "execution_count": 8
        },
        {
          "output_type": "display_data",
          "data": {
            "image/png": "[encoded data removed]",
            "text/plain": [
              "<Figure size 432x288 with 1 Axes>"
            ]
          },
          "metadata": {
            "tags": []
          }
        }
      ]
    },
    {
      "cell_type": "code",
      "metadata": {
        "id": "-6GOH6XrPrFT",
        "colab_type": "code",
        "colab": {}
      },
      "source": [
        "from wordcloud import WordCloud,STOPWORDS"
      ],
      "execution_count": 0,
      "outputs": []
    },
    {
      "cell_type": "code",
      "metadata": {
        "id": "4pAcJwuAPrFX",
        "colab_type": "code",
        "colab": {}
      },
      "source": [
        "df=train_data[train_data['Rating']==1]\n",
        "words = ','.join(str(i)for i in train_data['Reviews'])\n",
        "cleaned_word = \" \".join([word for word in words.split()])"
      ],
      "execution_count": 0,
      "outputs": []
    },
    {
      "cell_type": "code",
      "metadata": {
        "id": "cJnIS5WWPrFa",
        "colab_type": "code",
        "colab": {}
      },
      "source": [
        "wordcloud = WordCloud(stopwords=STOPWORDS,\n",
        "                      background_color='black',\n",
        "                      width=3000,\n",
        "                      height=2500\n",
        "                     ).generate(cleaned_word)"
      ],
      "execution_count": 0,
      "outputs": []
    },
    {
      "cell_type": "code",
      "metadata": {
        "id": "2543JSCcPrFf",
        "colab_type": "code",
        "colab": {
          "base_uri": "https://localhost:8080/",
          "height": 609
        },
        "outputId": "32c05da5-0d00-4cc8-d8d1-0520bb09dcb4"
      },
      "source": [
        "plt.figure(1,figsize=(12, 12))\n",
        "plt.imshow(wordcloud)\n",
        "plt.axis('off')\n",
        "plt.show()"
      ],
      "execution_count": 12,
      "outputs": [
        {
          "output_type": "display_data",
          "data": {
            "image/png": "[encoded data removed]",
            "text/plain": [
              "<Figure size 864x864 with 1 Axes>"
            ]
          },
          "metadata": {
            "tags": []
          }
        }
      ]
    },
    {
      "cell_type": "markdown",
      "metadata": {
        "id": "qkbeTbn0PrFi",
        "colab_type": "text"
      },
      "source": [
        "# Data Inspection and Cleaning"
      ]
    },
    {
      "cell_type": "code",
      "metadata": {
        "id": "m-Zj1Sz0PrFi",
        "colab_type": "code",
        "colab": {}
      },
      "source": [
        "from sklearn.model_selection import train_test_split"
      ],
      "execution_count": 0,
      "outputs": []
    },
    {
      "cell_type": "code",
      "metadata": {
        "id": "ZYBHrJaoPrFl",
        "colab_type": "code",
        "colab": {
          "base_uri": "https://localhost:8080/",
          "height": 34
        },
        "outputId": "46d7c802-3a92-4161-e507-0a2bd3f388ca"
      },
      "source": [
        "train_data, test_data =train_test_split(train_data, test_size =0.3, random_state =1)\n",
        "train_data.shape, test_data.shape\n"
      ],
      "execution_count": 14,
      "outputs": [
        {
          "output_type": "execute_result",
          "data": {
            "text/plain": [
              "((18101, 6), (7758, 6))"
            ]
          },
          "metadata": {
            "tags": []
          },
          "execution_count": 14
        }
      ]
    },
    {
      "cell_type": "code",
      "metadata": {
        "id": "EAYMxhagPrFo",
        "colab_type": "code",
        "colab": {
          "base_uri": "https://localhost:8080/",
          "height": 160
        },
        "outputId": "0368ff10-1dee-4ed6-cd7c-127b2396b3a1"
      },
      "source": [
        "review_train =train_data['Reviews'].values\n",
        "review_train"
      ],
      "execution_count": 15,
      "outputs": [
        {
          "output_type": "execute_result",
          "data": {
            "text/plain": [
              "array([\"The product is great however it doesn't worked as advertised. It suppose to be international but it is actually not. I tried to use it with my sim card from Mexico and the data didn't work. Unfortunately I needed to return it back as it was not working in my country. Be careful if you lkve outside the states.\",\n",
              "       'thanks, shipping very fast, cellphone new, muchas gracias funciono en mi PaÃ\\xads PerÃº.',\n",
              "       'The item fully meets my expectations. Company has a good customer support.',\n",
              "       ..., 'VERY NICE AND LOOKS NEW.___??????',\n",
              "       \"I bought 2 of these phones in March and now both of them are scrap, both of them are freezing and crashing. After reboot they get stuck at the LG logo . I feel like wasting my money and I'm very disappointed by Amazon services by providing costumers with poor quality products. Please don't buy this product.\",\n",
              "       'not a fancy phone, but easy to use, good sound quality, so far worked with all sim cards i have used at different countries'],\n",
              "      dtype=object)"
            ]
          },
          "metadata": {
            "tags": []
          },
          "execution_count": 15
        }
      ]
    },
    {
      "cell_type": "code",
      "metadata": {
        "id": "G6eh7SQtPrFr",
        "colab_type": "code",
        "colab": {
          "base_uri": "https://localhost:8080/",
          "height": 34
        },
        "outputId": "871ed40f-f4f2-4a1d-fa39-a78b374dd512"
      },
      "source": [
        "review_train.shape"
      ],
      "execution_count": 16,
      "outputs": [
        {
          "output_type": "execute_result",
          "data": {
            "text/plain": [
              "(18101,)"
            ]
          },
          "metadata": {
            "tags": []
          },
          "execution_count": 16
        }
      ]
    },
    {
      "cell_type": "code",
      "metadata": {
        "id": "3aGd7SUXPrFw",
        "colab_type": "code",
        "colab": {
          "base_uri": "https://localhost:8080/",
          "height": 160
        },
        "outputId": "265d6ddf-6e5f-423c-e799-ab65bca0b50f"
      },
      "source": [
        "review_test =test_data['Reviews'].values\n",
        "review_train"
      ],
      "execution_count": 17,
      "outputs": [
        {
          "output_type": "execute_result",
          "data": {
            "text/plain": [
              "array([\"The product is great however it doesn't worked as advertised. It suppose to be international but it is actually not. I tried to use it with my sim card from Mexico and the data didn't work. Unfortunately I needed to return it back as it was not working in my country. Be careful if you lkve outside the states.\",\n",
              "       'thanks, shipping very fast, cellphone new, muchas gracias funciono en mi PaÃ\\xads PerÃº.',\n",
              "       'The item fully meets my expectations. Company has a good customer support.',\n",
              "       ..., 'VERY NICE AND LOOKS NEW.___??????',\n",
              "       \"I bought 2 of these phones in March and now both of them are scrap, both of them are freezing and crashing. After reboot they get stuck at the LG logo . I feel like wasting my money and I'm very disappointed by Amazon services by providing costumers with poor quality products. Please don't buy this product.\",\n",
              "       'not a fancy phone, but easy to use, good sound quality, so far worked with all sim cards i have used at different countries'],\n",
              "      dtype=object)"
            ]
          },
          "metadata": {
            "tags": []
          },
          "execution_count": 17
        }
      ]
    },
    {
      "cell_type": "code",
      "metadata": {
        "id": "o4uDmQJ8PrFz",
        "colab_type": "code",
        "colab": {
          "base_uri": "https://localhost:8080/",
          "height": 34
        },
        "outputId": "f3be31c5-fd9c-4d55-d41a-711c4ac5603a"
      },
      "source": [
        "review_test.shape"
      ],
      "execution_count": 18,
      "outputs": [
        {
          "output_type": "execute_result",
          "data": {
            "text/plain": [
              "(7758,)"
            ]
          },
          "metadata": {
            "tags": []
          },
          "execution_count": 18
        }
      ]
    },
    {
      "cell_type": "code",
      "metadata": {
        "id": "MiviMi-BPrF2",
        "colab_type": "code",
        "colab": {}
      },
      "source": [
        "import re"
      ],
      "execution_count": 0,
      "outputs": []
    },
    {
      "cell_type": "code",
      "metadata": {
        "id": "1FXXbZsfPrF4",
        "colab_type": "code",
        "colab": {}
      },
      "source": [
        "ech_review_train= []\n",
        "for line in review_train:\n",
        "    ech_review_train.append([wrds for wrds in re.split(' |,|!|\\?', str(line))])\n",
        "    #print(ech_review_train)"
      ],
      "execution_count": 0,
      "outputs": []
    },
    {
      "cell_type": "code",
      "metadata": {
        "id": "JIlJ-TpXPrF9",
        "colab_type": "code",
        "colab": {}
      },
      "source": [
        "ech_review_test = []\n",
        "for line in review_test:\n",
        "    ech_review_test.append([wrds for wrds in re.split(' |,|!|\\?', str(line))])\n",
        "    #print(ech_tweet_test)\n",
        "#ech_review_test"
      ],
      "execution_count": 0,
      "outputs": []
    },
    {
      "cell_type": "code",
      "metadata": {
        "id": "vHz8UAtQPrGD",
        "colab_type": "code",
        "colab": {}
      },
      "source": [
        "from nltk.stem import WordNetLemmatizer\n",
        "lemmatizer = WordNetLemmatizer()"
      ],
      "execution_count": 0,
      "outputs": []
    },
    {
      "cell_type": "code",
      "metadata": {
        "id": "GQSeRrkaPrGH",
        "colab_type": "code",
        "colab": {
          "base_uri": "https://localhost:8080/",
          "height": 140
        },
        "outputId": "4330f769-0f31-4fef-846b-6c83e38ec420"
      },
      "source": [
        "from nltk import pos_tag\n",
        "nltk.download('averaged_perceptron_tagger')\n",
        "nltk.download('wordnet')"
      ],
      "execution_count": 23,
      "outputs": [
        {
          "output_type": "stream",
          "text": [
            "[nltk_data] Downloading package averaged_perceptron_tagger to\n",
            "[nltk_data]     /root/nltk_data...\n",
            "[nltk_data]   Package averaged_perceptron_tagger is already up-to-\n",
            "[nltk_data]       date!\n",
            "[nltk_data] Downloading package wordnet to /root/nltk_data...\n",
            "[nltk_data]   Package wordnet is already up-to-date!\n"
          ],
          "name": "stdout"
        },
        {
          "output_type": "execute_result",
          "data": {
            "text/plain": [
              "True"
            ]
          },
          "metadata": {
            "tags": []
          },
          "execution_count": 23
        }
      ]
    },
    {
      "cell_type": "code",
      "metadata": {
        "id": "LdtdafF5PrGJ",
        "colab_type": "code",
        "colab": {}
      },
      "source": [
        "from nltk.corpus import wordnet\n",
        "def get_pos_tag(word):\n",
        "    tag = pos_tag([word])[0][1]\n",
        "    if tag.startswith('J'):\n",
        "        return wordnet.ADJ\n",
        "    elif tag.startswith('V'):\n",
        "        return wordnet.VERB\n",
        "    elif tag.startswith('N'):\n",
        "        return wordnet.NOUN\n",
        "    elif tag.startswith('R'):\n",
        "        return wordnet.ADV\n",
        "    else:\n",
        "        return wordnet.NOUN\n",
        "    "
      ],
      "execution_count": 0,
      "outputs": []
    },
    {
      "cell_type": "code",
      "metadata": {
        "id": "PtfuD2yAPrGM",
        "colab_type": "code",
        "colab": {}
      },
      "source": [
        "from nltk.corpus import stopwords\n",
        "import string\n",
        "# stops = set(stopwords.words('english'))\n",
        "# punctuations = list(string.punctuation)\n",
        "# stops.update(punctuations)\n",
        "# stops, string.punctuation\n",
        "\n",
        "\n",
        "punctuations = list(string.punctuation)\n",
        "stop = stopwords.words('english')\n",
        "stop += punctuations"
      ],
      "execution_count": 0,
      "outputs": []
    },
    {
      "cell_type": "code",
      "metadata": {
        "id": "_prGna5_PrGP",
        "colab_type": "code",
        "colab": {}
      },
      "source": [
        "def clean_review(words):\n",
        "    output_words = list()\n",
        "    for w in words:\n",
        "        if w.lower() not in stop and len(w) > 0:            \n",
        "            clean_word = lemmatizer.lemmatize(w, pos = get_pos_tag(w))\n",
        "            output_words.append(clean_word.lower())\n",
        "    return output_words"
      ],
      "execution_count": 0,
      "outputs": []
    },
    {
      "cell_type": "code",
      "metadata": {
        "id": "LUOLzsw9PrGS",
        "colab_type": "code",
        "colab": {}
      },
      "source": [
        "text_review_train = [(clean_review(text)) for text in ech_review_train]\n",
        "#text_review_train"
      ],
      "execution_count": 0,
      "outputs": []
    },
    {
      "cell_type": "code",
      "metadata": {
        "id": "U00q4IgxPrGU",
        "colab_type": "code",
        "colab": {}
      },
      "source": [
        "text_review_test = [(clean_review(text)) for text in ech_review_test]\n",
        "#text_review_test"
      ],
      "execution_count": 0,
      "outputs": []
    },
    {
      "cell_type": "code",
      "metadata": {
        "id": "DmdKnQbyPrGX",
        "colab_type": "code",
        "colab": {}
      },
      "source": [
        "clean_text_review_train = [\" \".join(text) for text  in text_review_train]\n",
        "clean_text_review_test = [\" \".join(text) for text  in text_review_test]"
      ],
      "execution_count": 0,
      "outputs": []
    },
    {
      "cell_type": "code",
      "metadata": {
        "id": "ghHEVxszPrGZ",
        "colab_type": "code",
        "colab": {
          "base_uri": "https://localhost:8080/",
          "height": 193
        },
        "outputId": "10cff786-5285-44ae-914a-0844af7fc925"
      },
      "source": [
        "# print(clean_text_review_train)\n",
        "# print(clean_text_review_test)"
      ],
      "execution_count": 30,
      "outputs": [
        {
          "output_type": "stream",
          "text": [
            "IOPub data rate exceeded.\n",
            "The notebook server will temporarily stop sending output\n",
            "to the client in order to avoid crashing it.\n",
            "To change this limit, set the config variable\n",
            "`--NotebookApp.iopub_data_rate_limit`.\n",
            "\n",
            "Current values:\n",
            "NotebookApp.iopub_data_rate_limit=1000000.0 (bytes/sec)\n",
            "NotebookApp.rate_limit_window=3.0 (secs)\n",
            "\n"
          ],
          "name": "stderr"
        }
      ]
    },
    {
      "cell_type": "code",
      "metadata": {
        "id": "jWdFGI2lPrGc",
        "colab_type": "code",
        "colab": {}
      },
      "source": [
        "rating = [rating for rating  in train_data['Rating']]"
      ],
      "execution_count": 0,
      "outputs": []
    },
    {
      "cell_type": "code",
      "metadata": {
        "id": "4GyUdi6gbgC3",
        "colab_type": "code",
        "colab": {}
      },
      "source": [
        "from sklearn.feature_extraction.text import CountVectorizer"
      ],
      "execution_count": 0,
      "outputs": []
    },
    {
      "cell_type": "code",
      "metadata": {
        "id": "OGR1ukbzbhZS",
        "colab_type": "code",
        "colab": {}
      },
      "source": [
        "count_vec = CountVectorizer(max_features = 2000, ngram_range=(1,3))\n",
        "x_train_features = count_vec.fit_transform(clean_text_review_train, rating)\n",
        "#creating matrix form\n",
        "x_train_features = x_train_features.todense()\n",
        "x_test_features = count_vec.transform(clean_text_review_test)\n",
        "x_test_features = x_test_features.todense()"
      ],
      "execution_count": 0,
      "outputs": []
    },
    {
      "cell_type": "code",
      "metadata": {
        "id": "jYVLH5ZVmiUk",
        "colab_type": "code",
        "colab": {}
      },
      "source": [
        "from sklearn import preprocessing"
      ],
      "execution_count": 0,
      "outputs": []
    },
    {
      "cell_type": "code",
      "metadata": {
        "id": "OxJ_ilKUmlTX",
        "colab_type": "code",
        "colab": {}
      },
      "source": [
        "min_max_scaler=preprocessing.MinMaxScaler()\n",
        "min_max_scaler_train =min_max_scaler.fit_transform(x_train_features)"
      ],
      "execution_count": 0,
      "outputs": []
    },
    {
      "cell_type": "code",
      "metadata": {
        "id": "wAmOdWFL0bK7",
        "colab_type": "code",
        "colab": {}
      },
      "source": [
        "min_max_scaler2 =preprocessing.MinMaxScaler()"
      ],
      "execution_count": 0,
      "outputs": []
    },
    {
      "cell_type": "code",
      "metadata": {
        "id": "ErRmTFWe11CR",
        "colab_type": "code",
        "colab": {}
      },
      "source": [
        "min_max_scaler_test =min_max_scaler2.fit_transform(x_test_features)"
      ],
      "execution_count": 0,
      "outputs": []
    },
    {
      "cell_type": "code",
      "metadata": {
        "id": "CbWpB-Ribile",
        "colab_type": "code",
        "colab": {}
      },
      "source": [
        "from sklearn.svm import SVC"
      ],
      "execution_count": 0,
      "outputs": []
    },
    {
      "cell_type": "code",
      "metadata": {
        "id": "-Z6XUrsebkEz",
        "colab_type": "code",
        "colab": {
          "base_uri": "https://localhost:8080/",
          "height": 87
        },
        "outputId": "bbe3a87a-1d46-44bc-b171-9f6a07c71a2f"
      },
      "source": [
        "svc = SVC(C=100, degree = 2, kernel = 'linear')\n",
        "svc.fit(min_max_scaler, rating)"
      ],
      "execution_count": 38,
      "outputs": [
        {
          "output_type": "execute_result",
          "data": {
            "text/plain": [
              "SVC(C=100, cache_size=200, class_weight=None, coef0=0.0,\n",
              "    decision_function_shape='ovr', degree=2, gamma='auto_deprecated',\n",
              "    kernel='linear', max_iter=-1, probability=False, random_state=None,\n",
              "    shrinking=True, tol=0.001, verbose=False)"
            ]
          },
          "metadata": {
            "tags": []
          },
          "execution_count": 38
        }
      ]
    },
    {
      "cell_type": "code",
      "metadata": {
        "id": "Oau0sCVtbmbe",
        "colab_type": "code",
        "colab": {
          "base_uri": "https://localhost:8080/",
          "height": 34
        },
        "outputId": "13c630b2-662f-460e-ccd9-de213cf4a2c8"
      },
      "source": [
        "svc.score(min_max_scaler,  rating)"
      ],
      "execution_count": 39,
      "outputs": [
        {
          "output_type": "execute_result",
          "data": {
            "text/plain": [
              "0.932324180984476"
            ]
          },
          "metadata": {
            "tags": []
          },
          "execution_count": 39
        }
      ]
    },
    {
      "cell_type": "code",
      "metadata": {
        "id": "vc9FaT8vxZnY",
        "colab_type": "code",
        "colab": {}
      },
      "source": [
        "pred =svc.predict(min_max_scaler_test)"
      ],
      "execution_count": 0,
      "outputs": []
    },
    {
      "cell_type": "code",
      "metadata": {
        "id": "DC0C-pU62lBH",
        "colab_type": "code",
        "colab": {
          "base_uri": "https://localhost:8080/",
          "height": 34
        },
        "outputId": "5723493b-94a5-4f06-985d-767f0c9f218c"
      },
      "source": [
        "pred"
      ],
      "execution_count": 46,
      "outputs": [
        {
          "output_type": "execute_result",
          "data": {
            "text/plain": [
              "array([4, 4, 4, ..., 1, 4, 5])"
            ]
          },
          "metadata": {
            "tags": []
          },
          "execution_count": 46
        }
      ]
    },
    {
      "cell_type": "code",
      "metadata": {
        "id": "B7Jou6l8PrGf",
        "colab_type": "code",
        "colab": {
          "base_uri": "https://localhost:8080/",
          "height": 34
        },
        "outputId": "001f5254-2861-4183-b81e-2d65b67dc6b7"
      },
      "source": [
        "set(pred)"
      ],
      "execution_count": 48,
      "outputs": [
        {
          "output_type": "execute_result",
          "data": {
            "text/plain": [
              "{1, 2, 3, 4, 5}"
            ]
          },
          "metadata": {
            "tags": []
          },
          "execution_count": 48
        }
      ]
    },
    {
      "cell_type": "code",
      "metadata": {
        "id": "WVBVyDGz3yGW",
        "colab_type": "code",
        "colab": {
          "base_uri": "https://localhost:8080/",
          "height": 34
        },
        "outputId": "c0c7f4b7-af3d-4125-84fb-10775dfa1e64"
      },
      "source": [
        "svc.score(min_max_scaler_test, pred)"
      ],
      "execution_count": 49,
      "outputs": [
        {
          "output_type": "execute_result",
          "data": {
            "text/plain": [
              "1.0"
            ]
          },
          "metadata": {
            "tags": []
          },
          "execution_count": 49
        }
      ]
    },
    {
      "cell_type": "code",
      "metadata": {
        "id": "JylRlysn3-Y_",
        "colab_type": "code",
        "colab": {
          "base_uri": "https://localhost:8080/",
          "height": 54
        },
        "outputId": "3e902c50-18f7-449d-9926-139261a031ef"
      },
      "source": [
        "sample_review =\"1.0 out of 5 starsMy new mobile MI 6 pro says system destroyed on first day of receipt\"\n",
        "sample_review"
      ],
      "execution_count": 51,
      "outputs": [
        {
          "output_type": "execute_result",
          "data": {
            "text/plain": [
              "'1.0 out of 5 starsMy new mobile MI 6 pro says system destroyed on first day of receipt'"
            ]
          },
          "metadata": {
            "tags": []
          },
          "execution_count": 51
        }
      ]
    },
    {
      "cell_type": "code",
      "metadata": {
        "id": "2vhDW5NoTNqX",
        "colab_type": "code",
        "colab": {
          "base_uri": "https://localhost:8080/",
          "height": 70
        },
        "outputId": "543c3285-07b7-4236-e431-0eb3ca0097ee"
      },
      "source": [
        "from nltk.tokenize import sent_tokenize, word_tokenize\n",
        "import nltk\n",
        "nltk.download('punkt')"
      ],
      "execution_count": 58,
      "outputs": [
        {
          "output_type": "stream",
          "text": [
            "[nltk_data] Downloading package punkt to /root/nltk_data...\n",
            "[nltk_data]   Package punkt is already up-to-date!\n"
          ],
          "name": "stdout"
        },
        {
          "output_type": "execute_result",
          "data": {
            "text/plain": [
              "True"
            ]
          },
          "metadata": {
            "tags": []
          },
          "execution_count": 58
        }
      ]
    },
    {
      "cell_type": "code",
      "metadata": {
        "id": "pbItab2lTp95",
        "colab_type": "code",
        "colab": {
          "base_uri": "https://localhost:8080/",
          "height": 54
        },
        "outputId": "131bd3b4-24bb-4efd-dbdb-75321a7247b5"
      },
      "source": [
        "sample_review =sent_tokenize(sample_review)\n",
        "sample_review"
      ],
      "execution_count": 57,
      "outputs": [
        {
          "output_type": "execute_result",
          "data": {
            "text/plain": [
              "['1.0 out of 5 starsMy new mobile MI 6 pro says system destroyed on first day of receipt']"
            ]
          },
          "metadata": {
            "tags": []
          },
          "execution_count": 57
        }
      ]
    },
    {
      "cell_type": "code",
      "metadata": {
        "id": "9e83rRG8T0FD",
        "colab_type": "code",
        "colab": {}
      },
      "source": [
        ""
      ],
      "execution_count": 0,
      "outputs": []
    },
    {
      "cell_type": "code",
      "metadata": {
        "id": "_9bRmiK_TwXx",
        "colab_type": "code",
        "colab": {}
      },
      "source": [
        ""
      ],
      "execution_count": 0,
      "outputs": []
    },
    {
      "cell_type": "code",
      "metadata": {
        "id": "Dv1jKBfMTuI7",
        "colab_type": "code",
        "colab": {}
      },
      "source": [
        ""
      ],
      "execution_count": 0,
      "outputs": []
    },
    {
      "cell_type": "code",
      "metadata": {
        "id": "dmDbX__0TJkG",
        "colab_type": "code",
        "colab": {
          "base_uri": "https://localhost:8080/",
          "height": 140
        },
        "outputId": "58dffd3a-a083-4edf-d5c8-0ee556dd893e"
      },
      "source": [
        "x_train_features"
      ],
      "execution_count": 60,
      "outputs": [
        {
          "output_type": "execute_result",
          "data": {
            "text/plain": [
              "matrix([[0, 0, 0, ..., 0, 0, 0],\n",
              "        [0, 0, 0, ..., 0, 0, 0],\n",
              "        [0, 0, 0, ..., 0, 0, 0],\n",
              "        ...,\n",
              "        [0, 0, 0, ..., 0, 0, 0],\n",
              "        [0, 0, 0, ..., 0, 0, 0],\n",
              "        [0, 0, 0, ..., 0, 0, 0]])"
            ]
          },
          "metadata": {
            "tags": []
          },
          "execution_count": 60
        }
      ]
    },
    {
      "cell_type": "code",
      "metadata": {
        "id": "LuEt7qBLVOKo",
        "colab_type": "code",
        "colab": {}
      },
      "source": [
        "import numpy as np"
      ],
      "execution_count": 0,
      "outputs": []
    },
    {
      "cell_type": "code",
      "metadata": {
        "id": "ZhGtpMBwVXLQ",
        "colab_type": "code",
        "colab": {
          "base_uri": "https://localhost:8080/",
          "height": 34
        },
        "outputId": "c022b31e-d9b4-4a6a-ae27-d154eac7f4f8"
      },
      "source": [
        "a =np.array([1,2,3,4])\n",
        "a.\n"
      ],
      "execution_count": 65,
      "outputs": [
        {
          "output_type": "execute_result",
          "data": {
            "text/plain": [
              "array([1, 2, 3, 4])"
            ]
          },
          "metadata": {
            "tags": []
          },
          "execution_count": 65
        }
      ]
    }
  ]
}